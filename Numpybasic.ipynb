{
 "cells": [
  {
   "cell_type": "code",
   "execution_count": 3,
   "metadata": {},
   "outputs": [],
   "source": [
    "import numpy as np\n",
    "\n",
    "def simple_operation(a):\n",
    "    print(a,\"\\n\")\n",
    "    print(a.ndim,\"number of dimension\")\n",
    "    print(a.size,\"total size of array\")\n",
    "    print(a.shape,\"size of each dimension\")\n",
    "    print(a.dtype,\" data type of array\")\n",
    "    print(a.itemsize,\"list the size(in Byte) each array elements\")\n",
    "    print(a.nbytes, \"list the total size array in Byte\")\n"
   ]
  },
  {
   "cell_type": "code",
   "execution_count": 4,
   "metadata": {},
   "outputs": [
    {
     "name": "stdout",
     "output_type": "stream",
     "text": [
      "\n",
      " 1D \n",
      "\n",
      "[1 2 3 4] \n",
      "\n",
      "1 number of dimension\n",
      "4 total size of array\n",
      "(4,) size of each dimension\n",
      "int32  data type of array\n",
      "4 list the size(in Byte) each array elements\n",
      "16 list the total size array in Byte\n"
     ]
    }
   ],
   "source": [
    "print(\"\\n 1D \\n\")\n",
    "a=np.array([1,2,3,4])      #  1D array\n",
    "simple_operation(a)\n"
   ]
  },
  {
   "cell_type": "code",
   "execution_count": 5,
   "metadata": {},
   "outputs": [
    {
     "name": "stdout",
     "output_type": "stream",
     "text": [
      "\n",
      " 2D \n",
      "\n",
      "[[1 2 3 4]\n",
      " [5 6 7 8]] \n",
      "\n",
      "2 number of dimension\n",
      "8 total size of array\n",
      "(2, 4) size of each dimension\n",
      "int32  data type of array\n",
      "4 list the size(in Byte) each array elements\n",
      "32 list the total size array in Byte\n"
     ]
    }
   ],
   "source": [
    "print(\"\\n 2D \\n\")\n",
    "b=np.array([[1,2,3,4],[5,6,7,8] ])    # 2D array\n",
    "simple_operation(b)\n",
    "\n"
   ]
  },
  {
   "cell_type": "code",
   "execution_count": 6,
   "metadata": {},
   "outputs": [
    {
     "name": "stdout",
     "output_type": "stream",
     "text": [
      "\n",
      " 2D array [[1 2 3 4]\n",
      " [5 6 7 8]]\n",
      "[[1 2]\n",
      " [3 4]\n",
      " [5 6]\n",
      " [7 8]]\n",
      "4\n"
     ]
    }
   ],
   "source": [
    "print(\"\\n 2D array\",b)\n",
    "print(b.reshape(4,2))\n",
    "\n",
    "x=np.array([1,2,3,4])\n",
    "print(x.itemsize)\n"
   ]
  },
  {
   "cell_type": "code",
   "execution_count": 7,
   "metadata": {},
   "outputs": [
    {
     "name": "stdout",
     "output_type": "stream",
     "text": [
      "1\n"
     ]
    }
   ],
   "source": [
    "x=np.array([1,2,3,4],dtype=np.int8)\n",
    "print(x.itemsize)\n",
    "\n"
   ]
  },
  {
   "cell_type": "code",
   "execution_count": null,
   "metadata": {},
   "outputs": [],
   "source": []
  }
 ],
 "metadata": {
  "kernelspec": {
   "display_name": "Python 3",
   "language": "python",
   "name": "python3"
  },
  "language_info": {
   "codemirror_mode": {
    "name": "ipython",
    "version": 3
   },
   "file_extension": ".py",
   "mimetype": "text/x-python",
   "name": "python",
   "nbconvert_exporter": "python",
   "pygments_lexer": "ipython3",
   "version": "3.7.1"
  }
 },
 "nbformat": 4,
 "nbformat_minor": 2
}
